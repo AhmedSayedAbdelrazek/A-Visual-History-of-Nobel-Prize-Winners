{
 "cells": [
  {
   "cell_type": "markdown",
   "id": "523e7574",
   "metadata": {
    "papermill": {
     "duration": 0.006168,
     "end_time": "2022-12-13T18:35:46.185400",
     "exception": false,
     "start_time": "2022-12-13T18:35:46.179232",
     "status": "completed"
    },
    "tags": []
   },
   "source": [
    "# Importing laibraries"
   ]
  },
  {
   "cell_type": "code",
   "execution_count": 1,
   "id": "5e042e54",
   "metadata": {
    "execution": {
     "iopub.execute_input": "2022-12-13T18:35:46.198323Z",
     "iopub.status.busy": "2022-12-13T18:35:46.197786Z",
     "iopub.status.idle": "2022-12-13T18:35:53.014608Z",
     "shell.execute_reply": "2022-12-13T18:35:53.013291Z"
    },
    "papermill": {
     "duration": 6.826881,
     "end_time": "2022-12-13T18:35:53.017746",
     "exception": false,
     "start_time": "2022-12-13T18:35:46.190865",
     "status": "completed"
    },
    "tags": []
   },
   "outputs": [],
   "source": [
    "#laibraries for read_data  \n",
    "import numpy as np\n",
    "import pandas as pd\n",
    "\n",
    "# Virsualization for data \n",
    "import matplotlib.pyplot as plt\n",
    "\n",
    "# import Callbacks for EarlySttoping\n",
    "from tensorflow.keras.callbacks import ReduceLROnPlateau, EarlyStopping\n",
    "\n",
    "# important laibary for bulding Model\n",
    "from tensorflow.keras.models import Sequential\n",
    "from tensorflow.keras.layers import Dense,Flatten,Conv2D,Dropout,GlobalAveragePooling2D, MaxPooling2D\n",
    "from keras.utils.np_utils import to_categorical\n",
    "\n",
    "# Data Augmentation (THis is bonus part)\n",
    "from tensorflow.keras.preprocessing.image import ImageDataGenerator"
   ]
  },
  {
   "cell_type": "markdown",
   "id": "5ce29238",
   "metadata": {
    "papermill": {
     "duration": 0.004971,
     "end_time": "2022-12-13T18:35:53.028250",
     "exception": false,
     "start_time": "2022-12-13T18:35:53.023279",
     "status": "completed"
    },
    "tags": []
   },
   "source": [
    "# Read Data From Kaggle"
   ]
  },
  {
   "cell_type": "code",
   "execution_count": 2,
   "id": "e22cc694",
   "metadata": {
    "execution": {
     "iopub.execute_input": "2022-12-13T18:35:53.040987Z",
     "iopub.status.busy": "2022-12-13T18:35:53.040343Z",
     "iopub.status.idle": "2022-12-13T18:35:54.538315Z",
     "shell.execute_reply": "2022-12-13T18:35:54.537267Z"
    },
    "papermill": {
     "duration": 1.507479,
     "end_time": "2022-12-13T18:35:54.540979",
     "exception": false,
     "start_time": "2022-12-13T18:35:53.033500",
     "status": "completed"
    },
    "tags": []
   },
   "outputs": [],
   "source": [
    "#SPlit our data into 4 parts (x_train,x_test,y_train,y_test)\n",
    "X_train=pd.read_csv('/kaggle/input/ahcd1/csvTrainImages 13440x1024.csv').to_numpy()\n",
    "X_test=pd.read_csv('/kaggle/input/ahcd1/csvTestImages 3360x1024.csv').to_numpy()\n",
    "y_train=pd.read_csv('/kaggle/input/ahcd1/csvTrainLabel 13440x1.csv').to_numpy()-1\n",
    "y_test=pd.read_csv('/kaggle/input/ahcd1/csvTestLabel 3360x1.csv').to_numpy()-1"
   ]
  },
  {
   "cell_type": "code",
   "execution_count": 3,
   "id": "ee3cee2d",
   "metadata": {
    "execution": {
     "iopub.execute_input": "2022-12-13T18:35:54.553528Z",
     "iopub.status.busy": "2022-12-13T18:35:54.553111Z",
     "iopub.status.idle": "2022-12-13T18:35:54.559878Z",
     "shell.execute_reply": "2022-12-13T18:35:54.558582Z"
    },
    "papermill": {
     "duration": 0.015917,
     "end_time": "2022-12-13T18:35:54.562501",
     "exception": false,
     "start_time": "2022-12-13T18:35:54.546584",
     "status": "completed"
    },
    "tags": []
   },
   "outputs": [
    {
     "name": "stdout",
     "output_type": "stream",
     "text": [
      "X_train shape is  (13439, 1024)\n",
      "X_test shape is  (3359, 1024)\n",
      "y_train shape is  (13439, 1)\n",
      "y_test shape is  (3359, 1)\n"
     ]
    }
   ],
   "source": [
    "# printing the Shape of data to show no rows,columns \n",
    "print('X_train shape is ',X_train.shape)\n",
    "print('X_test shape is ',X_test.shape)\n",
    "print('y_train shape is ',y_train.shape)\n",
    "print('y_test shape is ',y_test.shape)"
   ]
  },
  {
   "cell_type": "code",
   "execution_count": 4,
   "id": "dfb51f68",
   "metadata": {
    "execution": {
     "iopub.execute_input": "2022-12-13T18:35:54.577741Z",
     "iopub.status.busy": "2022-12-13T18:35:54.576100Z",
     "iopub.status.idle": "2022-12-13T18:35:54.582538Z",
     "shell.execute_reply": "2022-12-13T18:35:54.581370Z"
    },
    "papermill": {
     "duration": 0.015551,
     "end_time": "2022-12-13T18:35:54.584901",
     "exception": false,
     "start_time": "2022-12-13T18:35:54.569350",
     "status": "completed"
    },
    "tags": []
   },
   "outputs": [],
   "source": [
    "# We Need to do Reshape our Data \n",
    "X_train = X_train.reshape(-1,32,32,1)\n",
    "X_test = X_test.reshape(-1,32,32,1)"
   ]
  },
  {
   "cell_type": "code",
   "execution_count": 5,
   "id": "79307b9e",
   "metadata": {
    "execution": {
     "iopub.execute_input": "2022-12-13T18:35:54.598080Z",
     "iopub.status.busy": "2022-12-13T18:35:54.597084Z",
     "iopub.status.idle": "2022-12-13T18:35:54.604737Z",
     "shell.execute_reply": "2022-12-13T18:35:54.602609Z"
    },
    "papermill": {
     "duration": 0.017263,
     "end_time": "2022-12-13T18:35:54.607727",
     "exception": false,
     "start_time": "2022-12-13T18:35:54.590464",
     "status": "completed"
    },
    "tags": []
   },
   "outputs": [
    {
     "name": "stdout",
     "output_type": "stream",
     "text": [
      "X_train shape is  (13439, 32, 32, 1)\n",
      "X_test shape is  (3359, 32, 32, 1)\n",
      "y_train shape is  (13439, 1)\n",
      "y_test shape is  (3359, 1)\n"
     ]
    }
   ],
   "source": [
    "# printing the Shape of data to show no rows,columns after Reshape\n",
    "print('X_train shape is ',X_train.shape)\n",
    "print('X_test shape is ',X_test.shape)\n",
    "print('y_train shape is ',y_train.shape)\n",
    "print('y_test shape is ',y_test.shape)"
   ]
  },
  {
   "cell_type": "code",
   "execution_count": 6,
   "id": "80405f64",
   "metadata": {
    "execution": {
     "iopub.execute_input": "2022-12-13T18:35:54.621018Z",
     "iopub.status.busy": "2022-12-13T18:35:54.620245Z",
     "iopub.status.idle": "2022-12-13T18:35:54.625679Z",
     "shell.execute_reply": "2022-12-13T18:35:54.625018Z"
    },
    "papermill": {
     "duration": 0.013964,
     "end_time": "2022-12-13T18:35:54.627533",
     "exception": false,
     "start_time": "2022-12-13T18:35:54.613569",
     "status": "completed"
    },
    "tags": []
   },
   "outputs": [],
   "source": [
    "#Transform y_train,y_test into Categorical data \n",
    "y_train = to_categorical(y_train)\n",
    "y_test = to_categorical(y_test)"
   ]
  },
  {
   "cell_type": "code",
   "execution_count": 7,
   "id": "9940e8c0",
   "metadata": {
    "execution": {
     "iopub.execute_input": "2022-12-13T18:35:54.640761Z",
     "iopub.status.busy": "2022-12-13T18:35:54.640176Z",
     "iopub.status.idle": "2022-12-13T18:35:54.645988Z",
     "shell.execute_reply": "2022-12-13T18:35:54.644490Z"
    },
    "papermill": {
     "duration": 0.015351,
     "end_time": "2022-12-13T18:35:54.648524",
     "exception": false,
     "start_time": "2022-12-13T18:35:54.633173",
     "status": "completed"
    },
    "tags": []
   },
   "outputs": [
    {
     "name": "stdout",
     "output_type": "stream",
     "text": [
      "y_train shape is  (13439, 28)\n",
      "y_test shape is  (3359, 28)\n"
     ]
    }
   ],
   "source": [
    "print('y_train shape is ',y_train.shape)\n",
    "print('y_test shape is ',y_test.shape)"
   ]
  },
  {
   "cell_type": "markdown",
   "id": "2839e75f",
   "metadata": {
    "papermill": {
     "duration": 0.00575,
     "end_time": "2022-12-13T18:35:54.660299",
     "exception": false,
     "start_time": "2022-12-13T18:35:54.654549",
     "status": "completed"
    },
    "tags": []
   },
   "source": [
    "# Data Augmentation"
   ]
  },
  {
   "cell_type": "code",
   "execution_count": 8,
   "id": "235af8d7",
   "metadata": {
    "execution": {
     "iopub.execute_input": "2022-12-13T18:35:54.672533Z",
     "iopub.status.busy": "2022-12-13T18:35:54.672161Z",
     "iopub.status.idle": "2022-12-13T18:35:54.691863Z",
     "shell.execute_reply": "2022-12-13T18:35:54.690498Z"
    },
    "papermill": {
     "duration": 0.02875,
     "end_time": "2022-12-13T18:35:54.694340",
     "exception": false,
     "start_time": "2022-12-13T18:35:54.665590",
     "status": "completed"
    },
    "tags": []
   },
   "outputs": [],
   "source": [
    "# Data Augmentation\n",
    "gen=ImageDataGenerator(\n",
    "    rescale=1.0/255.0,\n",
    "    zoom_range=0.3\n",
    ")\n",
    "train_data=gen.flow(\n",
    "    X_train,\n",
    "    y_train,\n",
    ")"
   ]
  },
  {
   "cell_type": "markdown",
   "id": "569488be",
   "metadata": {
    "papermill": {
     "duration": 0.005059,
     "end_time": "2022-12-13T18:35:54.704959",
     "exception": false,
     "start_time": "2022-12-13T18:35:54.699900",
     "status": "completed"
    },
    "tags": []
   },
   "source": [
    "# Model"
   ]
  },
  {
   "cell_type": "code",
   "execution_count": 9,
   "id": "5b5a287e",
   "metadata": {
    "execution": {
     "iopub.execute_input": "2022-12-13T18:35:54.718442Z",
     "iopub.status.busy": "2022-12-13T18:35:54.718057Z",
     "iopub.status.idle": "2022-12-13T18:35:54.883796Z",
     "shell.execute_reply": "2022-12-13T18:35:54.882925Z"
    },
    "papermill": {
     "duration": 0.174645,
     "end_time": "2022-12-13T18:35:54.885752",
     "exception": false,
     "start_time": "2022-12-13T18:35:54.711107",
     "status": "completed"
    },
    "tags": []
   },
   "outputs": [
    {
     "name": "stderr",
     "output_type": "stream",
     "text": [
      "2022-12-13 18:35:54.766944: I tensorflow/core/common_runtime/process_util.cc:146] Creating new thread pool with default inter op setting: 2. Tune using inter_op_parallelism_threads for best performance.\n"
     ]
    }
   ],
   "source": [
    "model = Sequential([\n",
    "    Conv2D(32, 3, padding='same', activation='relu', input_shape=(32,32,1)),\n",
    "    MaxPooling2D(2,2),\n",
    "    Conv2D(64, 3, padding='same', activation='relu'),\n",
    "    MaxPooling2D(2,2),\n",
    "    Conv2D(128, 3, padding='same', activation='relu'),\n",
    "    MaxPooling2D(2,2),\n",
    "    Conv2D(64, 3, padding='same', activation='relu'),\n",
    "    MaxPooling2D(2,2),\n",
    "    Flatten(),\n",
    "    Dense(128, activation='relu'),\n",
    "    Dense(256, activation='relu'),\n",
    "    Dense(28, activation='softmax')\n",
    "])\n"
   ]
  },
  {
   "cell_type": "markdown",
   "id": "a8911933",
   "metadata": {
    "papermill": {
     "duration": 0.005332,
     "end_time": "2022-12-13T18:35:54.896818",
     "exception": false,
     "start_time": "2022-12-13T18:35:54.891486",
     "status": "completed"
    },
    "tags": []
   },
   "source": [
    "# Callbacks"
   ]
  },
  {
   "cell_type": "code",
   "execution_count": 10,
   "id": "ecdd214d",
   "metadata": {
    "execution": {
     "iopub.execute_input": "2022-12-13T18:35:54.909845Z",
     "iopub.status.busy": "2022-12-13T18:35:54.908719Z",
     "iopub.status.idle": "2022-12-13T18:35:54.914762Z",
     "shell.execute_reply": "2022-12-13T18:35:54.913197Z"
    },
    "papermill": {
     "duration": 0.015732,
     "end_time": "2022-12-13T18:35:54.917828",
     "exception": false,
     "start_time": "2022-12-13T18:35:54.902096",
     "status": "completed"
    },
    "tags": []
   },
   "outputs": [],
   "source": [
    "reduce=ReduceLROnPlateau(\n",
    "    factor=0.1,\n",
    "    min_lr=0.00001\n",
    ")"
   ]
  },
  {
   "cell_type": "code",
   "execution_count": 11,
   "id": "af3527bb",
   "metadata": {
    "execution": {
     "iopub.execute_input": "2022-12-13T18:35:54.930447Z",
     "iopub.status.busy": "2022-12-13T18:35:54.930064Z",
     "iopub.status.idle": "2022-12-13T18:35:54.935950Z",
     "shell.execute_reply": "2022-12-13T18:35:54.934551Z"
    },
    "papermill": {
     "duration": 0.014928,
     "end_time": "2022-12-13T18:35:54.938413",
     "exception": false,
     "start_time": "2022-12-13T18:35:54.923485",
     "status": "completed"
    },
    "tags": []
   },
   "outputs": [],
   "source": [
    "callbacks=[reduce]"
   ]
  },
  {
   "cell_type": "code",
   "execution_count": 12,
   "id": "253ba62c",
   "metadata": {
    "execution": {
     "iopub.execute_input": "2022-12-13T18:35:54.950504Z",
     "iopub.status.busy": "2022-12-13T18:35:54.950111Z",
     "iopub.status.idle": "2022-12-13T18:35:54.963636Z",
     "shell.execute_reply": "2022-12-13T18:35:54.962663Z"
    },
    "papermill": {
     "duration": 0.022111,
     "end_time": "2022-12-13T18:35:54.966023",
     "exception": false,
     "start_time": "2022-12-13T18:35:54.943912",
     "status": "completed"
    },
    "tags": []
   },
   "outputs": [],
   "source": [
    "model.compile(\n",
    "    optimizer='adam',\n",
    "    loss='categorical_crossentropy',\n",
    "    metrics=['accuracy']\n",
    ")"
   ]
  },
  {
   "cell_type": "code",
   "execution_count": 13,
   "id": "f3f80dbb",
   "metadata": {
    "execution": {
     "iopub.execute_input": "2022-12-13T18:35:54.978711Z",
     "iopub.status.busy": "2022-12-13T18:35:54.978356Z",
     "iopub.status.idle": "2022-12-13T18:35:54.984971Z",
     "shell.execute_reply": "2022-12-13T18:35:54.984022Z"
    },
    "papermill": {
     "duration": 0.015347,
     "end_time": "2022-12-13T18:35:54.987168",
     "exception": false,
     "start_time": "2022-12-13T18:35:54.971821",
     "status": "completed"
    },
    "tags": []
   },
   "outputs": [
    {
     "name": "stdout",
     "output_type": "stream",
     "text": [
      "Model: \"sequential\"\n",
      "_________________________________________________________________\n",
      "Layer (type)                 Output Shape              Param #   \n",
      "=================================================================\n",
      "conv2d (Conv2D)              (None, 32, 32, 32)        320       \n",
      "_________________________________________________________________\n",
      "max_pooling2d (MaxPooling2D) (None, 16, 16, 32)        0         \n",
      "_________________________________________________________________\n",
      "conv2d_1 (Conv2D)            (None, 16, 16, 64)        18496     \n",
      "_________________________________________________________________\n",
      "max_pooling2d_1 (MaxPooling2 (None, 8, 8, 64)          0         \n",
      "_________________________________________________________________\n",
      "conv2d_2 (Conv2D)            (None, 8, 8, 128)         73856     \n",
      "_________________________________________________________________\n",
      "max_pooling2d_2 (MaxPooling2 (None, 4, 4, 128)         0         \n",
      "_________________________________________________________________\n",
      "conv2d_3 (Conv2D)            (None, 4, 4, 64)          73792     \n",
      "_________________________________________________________________\n",
      "max_pooling2d_3 (MaxPooling2 (None, 2, 2, 64)          0         \n",
      "_________________________________________________________________\n",
      "flatten (Flatten)            (None, 256)               0         \n",
      "_________________________________________________________________\n",
      "dense (Dense)                (None, 128)               32896     \n",
      "_________________________________________________________________\n",
      "dense_1 (Dense)              (None, 256)               33024     \n",
      "_________________________________________________________________\n",
      "dense_2 (Dense)              (None, 28)                7196      \n",
      "=================================================================\n",
      "Total params: 239,580\n",
      "Trainable params: 239,580\n",
      "Non-trainable params: 0\n",
      "_________________________________________________________________\n"
     ]
    }
   ],
   "source": [
    "model.summary()"
   ]
  },
  {
   "cell_type": "markdown",
   "id": "32cf6a38",
   "metadata": {
    "papermill": {
     "duration": 0.005219,
     "end_time": "2022-12-13T18:35:54.998013",
     "exception": false,
     "start_time": "2022-12-13T18:35:54.992794",
     "status": "completed"
    },
    "tags": []
   },
   "source": [
    "# Fiting"
   ]
  },
  {
   "cell_type": "code",
   "execution_count": 14,
   "id": "a9354de7",
   "metadata": {
    "execution": {
     "iopub.execute_input": "2022-12-13T18:35:55.011101Z",
     "iopub.status.busy": "2022-12-13T18:35:55.010589Z",
     "iopub.status.idle": "2022-12-13T18:40:55.631320Z",
     "shell.execute_reply": "2022-12-13T18:40:55.629961Z"
    },
    "papermill": {
     "duration": 300.630153,
     "end_time": "2022-12-13T18:40:55.633628",
     "exception": false,
     "start_time": "2022-12-13T18:35:55.003475",
     "status": "completed"
    },
    "tags": []
   },
   "outputs": [
    {
     "name": "stderr",
     "output_type": "stream",
     "text": [
      "2022-12-13 18:35:55.274369: I tensorflow/compiler/mlir/mlir_graph_optimization_pass.cc:185] None of the MLIR Optimization Passes are enabled (registered 2)\n"
     ]
    },
    {
     "name": "stdout",
     "output_type": "stream",
     "text": [
      "Epoch 1/15\n",
      "420/420 [==============================] - 18s 41ms/step - loss: 1.6299 - accuracy: 0.4656 - val_loss: 109.3893 - val_accuracy: 0.7175\n",
      "Epoch 2/15\n",
      "420/420 [==============================] - 18s 42ms/step - loss: 0.6306 - accuracy: 0.7790 - val_loss: 50.7961 - val_accuracy: 0.8753\n",
      "Epoch 3/15\n",
      "420/420 [==============================] - 16s 39ms/step - loss: 0.4353 - accuracy: 0.8492 - val_loss: 41.3812 - val_accuracy: 0.9086\n",
      "Epoch 4/15\n",
      "420/420 [==============================] - 17s 40ms/step - loss: 0.3480 - accuracy: 0.8827 - val_loss: 32.1754 - val_accuracy: 0.9259\n",
      "Epoch 5/15\n",
      "420/420 [==============================] - 17s 41ms/step - loss: 0.2843 - accuracy: 0.9032 - val_loss: 40.5033 - val_accuracy: 0.9205\n",
      "Epoch 6/15\n",
      "420/420 [==============================] - 16s 39ms/step - loss: 0.2480 - accuracy: 0.9167 - val_loss: 36.5773 - val_accuracy: 0.9381\n",
      "Epoch 7/15\n",
      "420/420 [==============================] - 17s 40ms/step - loss: 0.2155 - accuracy: 0.9280 - val_loss: 39.7833 - val_accuracy: 0.9384\n",
      "Epoch 8/15\n",
      "420/420 [==============================] - 16s 39ms/step - loss: 0.1974 - accuracy: 0.9338 - val_loss: 34.4373 - val_accuracy: 0.9521\n",
      "Epoch 9/15\n",
      "420/420 [==============================] - 18s 42ms/step - loss: 0.1826 - accuracy: 0.9389 - val_loss: 49.9555 - val_accuracy: 0.9169\n",
      "Epoch 10/15\n",
      "420/420 [==============================] - 16s 39ms/step - loss: 0.1691 - accuracy: 0.9443 - val_loss: 46.4543 - val_accuracy: 0.9381\n",
      "Epoch 11/15\n",
      "420/420 [==============================] - 18s 42ms/step - loss: 0.1587 - accuracy: 0.9486 - val_loss: 33.7068 - val_accuracy: 0.9473\n",
      "Epoch 12/15\n",
      "420/420 [==============================] - 16s 39ms/step - loss: 0.1368 - accuracy: 0.9545 - val_loss: 40.0132 - val_accuracy: 0.9443\n",
      "Epoch 13/15\n",
      "420/420 [==============================] - 17s 40ms/step - loss: 0.1386 - accuracy: 0.9511 - val_loss: 41.3125 - val_accuracy: 0.9512\n",
      "Epoch 14/15\n",
      "420/420 [==============================] - 17s 40ms/step - loss: 0.1228 - accuracy: 0.9582 - val_loss: 43.0241 - val_accuracy: 0.9446\n",
      "Epoch 15/15\n",
      "420/420 [==============================] - 16s 39ms/step - loss: 0.0647 - accuracy: 0.9788 - val_loss: 30.0005 - val_accuracy: 0.9637\n"
     ]
    },
    {
     "data": {
      "text/plain": [
       "<keras.callbacks.History at 0x7f5aaa202b10>"
      ]
     },
     "execution_count": 14,
     "metadata": {},
     "output_type": "execute_result"
    }
   ],
   "source": [
    "model.fit(train_data,epochs=15,validation_data=(X_test,y_test),callbacks=callbacks)"
   ]
  },
  {
   "cell_type": "markdown",
   "id": "df910396",
   "metadata": {
    "papermill": {
     "duration": 0.176992,
     "end_time": "2022-12-13T18:40:56.052544",
     "exception": false,
     "start_time": "2022-12-13T18:40:55.875552",
     "status": "completed"
    },
    "tags": []
   },
   "source": [
    "# Accuracy"
   ]
  },
  {
   "cell_type": "code",
   "execution_count": 15,
   "id": "4ac2161e",
   "metadata": {
    "execution": {
     "iopub.execute_input": "2022-12-13T18:40:56.408468Z",
     "iopub.status.busy": "2022-12-13T18:40:56.408106Z",
     "iopub.status.idle": "2022-12-13T18:40:56.413730Z",
     "shell.execute_reply": "2022-12-13T18:40:56.412519Z"
    },
    "papermill": {
     "duration": 0.186255,
     "end_time": "2022-12-13T18:40:56.415778",
     "exception": false,
     "start_time": "2022-12-13T18:40:56.229523",
     "status": "completed"
    },
    "tags": []
   },
   "outputs": [],
   "source": [
    "losses=pd.DataFrame(model.history.history)"
   ]
  },
  {
   "cell_type": "code",
   "execution_count": 16,
   "id": "11c37f77",
   "metadata": {
    "execution": {
     "iopub.execute_input": "2022-12-13T18:40:56.790205Z",
     "iopub.status.busy": "2022-12-13T18:40:56.789839Z",
     "iopub.status.idle": "2022-12-13T18:40:56.809797Z",
     "shell.execute_reply": "2022-12-13T18:40:56.808630Z"
    },
    "papermill": {
     "duration": 0.199988,
     "end_time": "2022-12-13T18:40:56.812144",
     "exception": false,
     "start_time": "2022-12-13T18:40:56.612156",
     "status": "completed"
    },
    "tags": []
   },
   "outputs": [
    {
     "data": {
      "text/html": [
       "<div>\n",
       "<style scoped>\n",
       "    .dataframe tbody tr th:only-of-type {\n",
       "        vertical-align: middle;\n",
       "    }\n",
       "\n",
       "    .dataframe tbody tr th {\n",
       "        vertical-align: top;\n",
       "    }\n",
       "\n",
       "    .dataframe thead th {\n",
       "        text-align: right;\n",
       "    }\n",
       "</style>\n",
       "<table border=\"1\" class=\"dataframe\">\n",
       "  <thead>\n",
       "    <tr style=\"text-align: right;\">\n",
       "      <th></th>\n",
       "      <th>loss</th>\n",
       "      <th>accuracy</th>\n",
       "      <th>val_loss</th>\n",
       "      <th>val_accuracy</th>\n",
       "      <th>lr</th>\n",
       "    </tr>\n",
       "  </thead>\n",
       "  <tbody>\n",
       "    <tr>\n",
       "      <th>0</th>\n",
       "      <td>1.629881</td>\n",
       "      <td>0.465585</td>\n",
       "      <td>109.389343</td>\n",
       "      <td>0.717475</td>\n",
       "      <td>0.0010</td>\n",
       "    </tr>\n",
       "    <tr>\n",
       "      <th>1</th>\n",
       "      <td>0.630581</td>\n",
       "      <td>0.779001</td>\n",
       "      <td>50.796085</td>\n",
       "      <td>0.875260</td>\n",
       "      <td>0.0010</td>\n",
       "    </tr>\n",
       "    <tr>\n",
       "      <th>2</th>\n",
       "      <td>0.435301</td>\n",
       "      <td>0.849245</td>\n",
       "      <td>41.381172</td>\n",
       "      <td>0.908604</td>\n",
       "      <td>0.0010</td>\n",
       "    </tr>\n",
       "    <tr>\n",
       "      <th>3</th>\n",
       "      <td>0.347990</td>\n",
       "      <td>0.882655</td>\n",
       "      <td>32.175350</td>\n",
       "      <td>0.925871</td>\n",
       "      <td>0.0010</td>\n",
       "    </tr>\n",
       "    <tr>\n",
       "      <th>4</th>\n",
       "      <td>0.284315</td>\n",
       "      <td>0.903192</td>\n",
       "      <td>40.503330</td>\n",
       "      <td>0.920512</td>\n",
       "      <td>0.0010</td>\n",
       "    </tr>\n",
       "    <tr>\n",
       "      <th>5</th>\n",
       "      <td>0.247998</td>\n",
       "      <td>0.916660</td>\n",
       "      <td>36.577293</td>\n",
       "      <td>0.938077</td>\n",
       "      <td>0.0010</td>\n",
       "    </tr>\n",
       "    <tr>\n",
       "      <th>6</th>\n",
       "      <td>0.215455</td>\n",
       "      <td>0.927971</td>\n",
       "      <td>39.783302</td>\n",
       "      <td>0.938375</td>\n",
       "      <td>0.0010</td>\n",
       "    </tr>\n",
       "    <tr>\n",
       "      <th>7</th>\n",
       "      <td>0.197407</td>\n",
       "      <td>0.933849</td>\n",
       "      <td>34.437317</td>\n",
       "      <td>0.952069</td>\n",
       "      <td>0.0010</td>\n",
       "    </tr>\n",
       "    <tr>\n",
       "      <th>8</th>\n",
       "      <td>0.182580</td>\n",
       "      <td>0.938909</td>\n",
       "      <td>49.955460</td>\n",
       "      <td>0.916940</td>\n",
       "      <td>0.0010</td>\n",
       "    </tr>\n",
       "    <tr>\n",
       "      <th>9</th>\n",
       "      <td>0.169083</td>\n",
       "      <td>0.944341</td>\n",
       "      <td>46.454334</td>\n",
       "      <td>0.938077</td>\n",
       "      <td>0.0010</td>\n",
       "    </tr>\n",
       "    <tr>\n",
       "      <th>10</th>\n",
       "      <td>0.158746</td>\n",
       "      <td>0.948582</td>\n",
       "      <td>33.706818</td>\n",
       "      <td>0.947306</td>\n",
       "      <td>0.0010</td>\n",
       "    </tr>\n",
       "    <tr>\n",
       "      <th>11</th>\n",
       "      <td>0.136821</td>\n",
       "      <td>0.954461</td>\n",
       "      <td>40.013191</td>\n",
       "      <td>0.944329</td>\n",
       "      <td>0.0010</td>\n",
       "    </tr>\n",
       "    <tr>\n",
       "      <th>12</th>\n",
       "      <td>0.138611</td>\n",
       "      <td>0.951112</td>\n",
       "      <td>41.312485</td>\n",
       "      <td>0.951176</td>\n",
       "      <td>0.0010</td>\n",
       "    </tr>\n",
       "    <tr>\n",
       "      <th>13</th>\n",
       "      <td>0.122780</td>\n",
       "      <td>0.958181</td>\n",
       "      <td>43.024147</td>\n",
       "      <td>0.944626</td>\n",
       "      <td>0.0010</td>\n",
       "    </tr>\n",
       "    <tr>\n",
       "      <th>14</th>\n",
       "      <td>0.064724</td>\n",
       "      <td>0.978793</td>\n",
       "      <td>30.000517</td>\n",
       "      <td>0.963680</td>\n",
       "      <td>0.0001</td>\n",
       "    </tr>\n",
       "  </tbody>\n",
       "</table>\n",
       "</div>"
      ],
      "text/plain": [
       "        loss  accuracy    val_loss  val_accuracy      lr\n",
       "0   1.629881  0.465585  109.389343      0.717475  0.0010\n",
       "1   0.630581  0.779001   50.796085      0.875260  0.0010\n",
       "2   0.435301  0.849245   41.381172      0.908604  0.0010\n",
       "3   0.347990  0.882655   32.175350      0.925871  0.0010\n",
       "4   0.284315  0.903192   40.503330      0.920512  0.0010\n",
       "5   0.247998  0.916660   36.577293      0.938077  0.0010\n",
       "6   0.215455  0.927971   39.783302      0.938375  0.0010\n",
       "7   0.197407  0.933849   34.437317      0.952069  0.0010\n",
       "8   0.182580  0.938909   49.955460      0.916940  0.0010\n",
       "9   0.169083  0.944341   46.454334      0.938077  0.0010\n",
       "10  0.158746  0.948582   33.706818      0.947306  0.0010\n",
       "11  0.136821  0.954461   40.013191      0.944329  0.0010\n",
       "12  0.138611  0.951112   41.312485      0.951176  0.0010\n",
       "13  0.122780  0.958181   43.024147      0.944626  0.0010\n",
       "14  0.064724  0.978793   30.000517      0.963680  0.0001"
      ]
     },
     "execution_count": 16,
     "metadata": {},
     "output_type": "execute_result"
    }
   ],
   "source": [
    "losses"
   ]
  },
  {
   "cell_type": "code",
   "execution_count": 17,
   "id": "251edc7c",
   "metadata": {
    "execution": {
     "iopub.execute_input": "2022-12-13T18:40:57.177996Z",
     "iopub.status.busy": "2022-12-13T18:40:57.177684Z",
     "iopub.status.idle": "2022-12-13T18:40:57.399165Z",
     "shell.execute_reply": "2022-12-13T18:40:57.398498Z"
    },
    "papermill": {
     "duration": 0.404347,
     "end_time": "2022-12-13T18:40:57.401133",
     "exception": false,
     "start_time": "2022-12-13T18:40:56.996786",
     "status": "completed"
    },
    "tags": []
   },
   "outputs": [
    {
     "data": {
      "text/plain": [
       "<AxesSubplot:>"
      ]
     },
     "execution_count": 17,
     "metadata": {},
     "output_type": "execute_result"
    },
    {
     "data": {
      "image/png": "[encoded data removed]",
      "text/plain": [
       "<Figure size 432x288 with 1 Axes>"
      ]
     },
     "metadata": {
      "needs_background": "light"
     },
     "output_type": "display_data"
    }
   ],
   "source": [
    "losses[['loss','val_loss']].plot()"
   ]
  },
  {
   "cell_type": "code",
   "execution_count": 18,
   "id": "69873893",
   "metadata": {
    "execution": {
     "iopub.execute_input": "2022-12-13T18:40:57.814925Z",
     "iopub.status.busy": "2022-12-13T18:40:57.814393Z",
     "iopub.status.idle": "2022-12-13T18:40:57.988738Z",
     "shell.execute_reply": "2022-12-13T18:40:57.988047Z"
    },
    "papermill": {
     "duration": 0.409532,
     "end_time": "2022-12-13T18:40:57.991167",
     "exception": false,
     "start_time": "2022-12-13T18:40:57.581635",
     "status": "completed"
    },
    "tags": []
   },
   "outputs": [
    {
     "data": {
      "text/plain": [
       "<AxesSubplot:>"
      ]
     },
     "execution_count": 18,
     "metadata": {},
     "output_type": "execute_result"
    },
    {
     "data": {
      "image/png": "[encoded data removed]",
      "text/plain": [
       "<Figure size 432x288 with 1 Axes>"
      ]
     },
     "metadata": {
      "needs_background": "light"
     },
     "output_type": "display_data"
    }
   ],
   "source": [
    "losses[['accuracy','val_accuracy']].plot()"
   ]
  },
  {
   "cell_type": "code",
   "execution_count": 19,
   "id": "2e93af3b",
   "metadata": {
    "execution": {
     "iopub.execute_input": "2022-12-13T18:40:58.354530Z",
     "iopub.status.busy": "2022-12-13T18:40:58.353968Z",
     "iopub.status.idle": "2022-12-13T18:41:00.156984Z",
     "shell.execute_reply": "2022-12-13T18:41:00.155352Z"
    },
    "papermill": {
     "duration": 1.987813,
     "end_time": "2022-12-13T18:41:00.159845",
     "exception": false,
     "start_time": "2022-12-13T18:40:58.172032",
     "status": "completed"
    },
    "tags": []
   },
   "outputs": [
    {
     "name": "stdout",
     "output_type": "stream",
     "text": [
      "105/105 [==============================] - 2s 17ms/step - loss: 30.0005 - accuracy: 0.9637\n"
     ]
    },
    {
     "data": {
      "text/plain": [
       "[30.000516891479492, 0.9636796712875366]"
      ]
     },
     "execution_count": 19,
     "metadata": {},
     "output_type": "execute_result"
    }
   ],
   "source": [
    "model.evaluate(X_test,y_test)"
   ]
  },
  {
   "cell_type": "code",
   "execution_count": null,
   "id": "9c3e31d0",
   "metadata": {
    "papermill": {
     "duration": 0.180033,
     "end_time": "2022-12-13T18:41:00.522475",
     "exception": false,
     "start_time": "2022-12-13T18:41:00.342442",
     "status": "completed"
    },
    "tags": []
   },
   "outputs": [],
   "source": []
  }
 ],
 "metadata": {
  "kernelspec": {
   "display_name": "Python 3",
   "language": "python",
   "name": "python3"
  },
  "language_info": {
   "codemirror_mode": {
    "name": "ipython",
    "version": 3
   },
   "file_extension": ".py",
   "mimetype": "text/x-python",
   "name": "python",
   "nbconvert_exporter": "python",
   "pygments_lexer": "ipython3",
   "version": "3.7.12"
  },
  "papermill": {
   "default_parameters": {},
   "duration": 325.276262,
   "end_time": "2022-12-13T18:41:03.830387",
   "environment_variables": {},
   "exception": null,
   "input_path": "__notebook__.ipynb",
   "output_path": "__notebook__.ipynb",
   "parameters": {},
   "start_time": "2022-12-13T18:35:38.554125",
   "version": "2.3.4"
  }
 },
 "nbformat": 4,
 "nbformat_minor": 5
}
